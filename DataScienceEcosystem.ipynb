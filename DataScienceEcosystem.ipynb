{
 "cells": [
  {
   "cell_type": "markdown",
   "id": "952550ed-6f74-487f-8b90-1d38afe45d85",
   "metadata": {},
   "source": [
    "# Data Science Tools and Ecosystem"
   ]
  },
  {
   "cell_type": "markdown",
   "id": "32a3c9cf-3ede-495a-91d1-c9bab84131ef",
   "metadata": {},
   "source": [
    "# **Objectives:**\n",
    "\n",
    "## List popular languages for Data Science\n",
    "\n",
    "- Python\n",
    "- R\n",
    "- SQL\n",
    "- MATLAB\n"
   ]
  },
  {
   "cell_type": "markdown",
   "id": "c6e78a4d-f29a-4ec2-ac64-186de7148a80",
   "metadata": {},
   "source": [
    "## In this notebook, Data Science Tools and Ecosystem are summarized."
   ]
  },
  {
   "cell_type": "markdown",
   "id": "6bf98fac-0c4f-405d-86da-78c1a9d7fed8",
   "metadata": {
    "jp-MarkdownHeadingCollapsed": true
   },
   "source": [
    "### Some of the popular data science languages are:\r\n",
    "\r\n",
    "- Python\r\n",
    "- R\r\n",
    "- Julia\r\n",
    "- SQL\r\n",
    "- Scala\r\n"
   ]
  },
  {
   "cell_type": "markdown",
   "id": "ee56cc09-cc67-47ad-aed4-40e2c9eab2b3",
   "metadata": {},
   "source": [
    "### Some of the commonly used libraries used by Data Scientists include:\n",
    "\n",
    "1. SciPy\n",
    "2. NumPy\n",
    "3. Matplotlib"
   ]
  },
  {
   "cell_type": "markdown",
   "id": "f2597166-016e-447d-98f6-c720aaf9241a",
   "metadata": {},
   "source": [
    "|Data Science Tools|\n",
    "|------------------|\n",
    "| Jupyter Notebook|\n",
    "| RStudio|\n",
    "|GitHub|"
   ]
  },
  {
   "cell_type": "markdown",
   "id": "ac276f02-615b-4fc9-80b9-76d8f079ccee",
   "metadata": {},
   "source": [
    "### Below are a few examples of evaluating arithmetic expressions in Python:\n",
    "\n",
    "- **Addition:** `a + b`\r\n",
    "- **Subtraction:** `a - b`\r\n",
    "- **Multiplication:** `a * b`"
   ]
  },
  {
   "cell_type": "code",
   "execution_count": 9,
   "id": "f15eff0d-0f24-4d07-a054-7a717007f0a8",
   "metadata": {},
   "outputs": [
    {
     "name": "stdout",
     "output_type": "stream",
     "text": [
      "17\n"
     ]
    }
   ],
   "source": [
    "# This is a simple arithmetic expression to multiply then add integers:\n",
    "\n",
    "result = (3 * 4) + 5\n",
    "print(result)"
   ]
  },
  {
   "cell_type": "code",
   "execution_count": 22,
   "id": "04345276-4fb1-4da6-9ad8-1988ad45eb85",
   "metadata": {},
   "outputs": [
    {
     "data": {
      "text/plain": [
       "3.3333333333333335"
      ]
     },
     "execution_count": 22,
     "metadata": {},
     "output_type": "execute_result"
    }
   ],
   "source": [
    "# The following code will convert 200 minutes to hours by dividing by 60:\n",
    "\n",
    "\n",
    "minutes = 200\n",
    "hours = minutes / 60\n",
    "\n",
    "# Display the result\n",
    "hours"
   ]
  },
  {
   "cell_type": "markdown",
   "id": "69f57a7d-ddcd-457e-854a-1b1f32454f37",
   "metadata": {},
   "source": [
    "## Author\n",
    "Naji"
   ]
  },
  {
   "cell_type": "code",
   "execution_count": null,
   "id": "10791500-a8e4-4ba5-8eee-76246016adb6",
   "metadata": {},
   "outputs": [],
   "source": []
  }
 ],
 "metadata": {
  "kernelspec": {
   "display_name": "Python 3 (ipykernel)",
   "language": "python",
   "name": "python3"
  },
  "language_info": {
   "codemirror_mode": {
    "name": "ipython",
    "version": 3
   },
   "file_extension": ".py",
   "mimetype": "text/x-python",
   "name": "python",
   "nbconvert_exporter": "python",
   "pygments_lexer": "ipython3",
   "version": "3.11.5"
  }
 },
 "nbformat": 4,
 "nbformat_minor": 5
}
